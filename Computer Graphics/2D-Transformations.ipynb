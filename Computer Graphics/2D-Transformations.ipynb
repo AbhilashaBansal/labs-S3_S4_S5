{
 "cells": [
  {
   "cell_type": "markdown",
   "metadata": {},
   "source": [
    "### Aim\n",
    "\n",
    "Write functions to rotate an object (by a given angle about a given pivot point), translate an object & scale an object."
   ]
  },
  {
   "cell_type": "code",
   "execution_count": 1,
   "metadata": {},
   "outputs": [],
   "source": [
    "from graphics import *"
   ]
  },
  {
   "cell_type": "code",
   "execution_count": 2,
   "metadata": {},
   "outputs": [],
   "source": [
    "import math"
   ]
  },
  {
   "cell_type": "markdown",
   "metadata": {},
   "source": [
    "**Rotation**"
   ]
  },
  {
   "cell_type": "code",
   "execution_count": 26,
   "metadata": {},
   "outputs": [],
   "source": [
    "radius = 40\n",
    "\n",
    "def rotateObject(xcen=200, ycen=200, xpivot=0, ypivot=0, angle=60):\n",
    "    win = GraphWin('Rotate Object', 800, 600)\n",
    "    \n",
    "    x = xcen\n",
    "    y = ycen\n",
    "    pt = Point(xpivot,ypivot)\n",
    "    pt.draw(win)\n",
    "    t1 = Text(Point(xpivot, ypivot+10), \"(%.2f, %.2f)\"%(xpivot, ypivot))\n",
    "    t1.setSize(10)\n",
    "    t1.draw(win)\n",
    "    c = Circle(Point(x, y), radius)\n",
    "    c.setFill('green')\n",
    "    c.draw(win)\n",
    "    \n",
    "    if(angle==0):\n",
    "        win.getMouse()\n",
    "        win.close()\n",
    "        print(\"here\")\n",
    "        return\n",
    "    \n",
    "    else:\n",
    "        part = angle/10\n",
    "        \n",
    "    theta = 0\n",
    "    time.sleep(0.4)\n",
    "    while theta!=angle:\n",
    "        inrad = float((theta*2*math.pi)/360.0)\n",
    "        new_xcen = (x-xpivot)*math.cos(inrad) - (y-ypivot)*math.sin(inrad) + xpivot\n",
    "        new_ycen = (x-xpivot)*math.sin(inrad) + (y-ypivot)*math.cos(inrad) + ypivot\n",
    "        print(\"New center: (%.2f, %.2f), Theta: %.2f\" % (new_xcen,new_ycen,theta))\n",
    "        \n",
    "        c.undraw()\n",
    "        win.update()\n",
    "        c = Circle(Point(new_xcen, new_ycen), radius)\n",
    "        c.setFill('green')\n",
    "        c.draw(win)\n",
    "        time.sleep(0.2)\n",
    "        theta += part\n",
    "\n",
    "    win.getMouse()\n",
    "    win.close()"
   ]
  },
  {
   "cell_type": "code",
   "execution_count": 27,
   "metadata": {},
   "outputs": [
    {
     "name": "stdout",
     "output_type": "stream",
     "text": [
      "New center: (300.00, 300.00), Theta: 0.00\n",
      "New center: (332.03, 250.68), Theta: -24.00\n",
      "New center: (341.23, 192.60), Theta: -48.00\n",
      "New center: (326.01, 135.80), Theta: -72.00\n",
      "New center: (289.00, 90.09), Theta: -96.00\n",
      "New center: (236.60, 63.40), Theta: -120.00\n",
      "New center: (177.88, 60.32), Theta: -144.00\n",
      "New center: (122.98, 81.39), Theta: -168.00\n",
      "New center: (81.39, 122.98), Theta: -192.00\n",
      "New center: (60.32, 177.88), Theta: -216.00\n"
     ]
    }
   ],
   "source": [
    "rotateObject(300, 300, 200, 200, angle=-240)"
   ]
  },
  {
   "cell_type": "markdown",
   "metadata": {},
   "source": [
    "**Translation**"
   ]
  },
  {
   "cell_type": "code",
   "execution_count": 38,
   "metadata": {},
   "outputs": [],
   "source": [
    "def translateObject(xcen=200, ycen=200, xt=100, yt=100):\n",
    "    win = GraphWin('Translate Object', 800, 600)\n",
    "    \n",
    "    x = xcen\n",
    "    y = ycen\n",
    "    c = Circle(Point(x, y), radius)\n",
    "    c.setFill('skyblue')\n",
    "    c.draw(win)\n",
    "    \n",
    "    pt = Point(xcen,ycen)\n",
    "    pt.draw(win)\n",
    "    t1 = Text(Point(xcen, ycen+10), \"(%.2f, %.2f)\"%(xcen, ycen))\n",
    "    t1.setSize(10)\n",
    "    t1.draw(win)\n",
    "    \n",
    "    pt2 = Point(xcen+xt,ycen+yt)\n",
    "    pt2.draw(win)\n",
    "    t2 = Text(Point(xcen+xt, ycen+yt+10), \"(%.2f, %.2f)\"%(xcen+xt, ycen+yt))\n",
    "    t2.setSize(10)\n",
    "    t2.draw(win)\n",
    "\n",
    "    time.sleep(0.4)\n",
    "        \n",
    "    if(xt!=0):\n",
    "        part = xt/10\n",
    "        xttt = 0\n",
    "        \n",
    "        while xttt!=xt:\n",
    "            new_xcen = x+xttt;\n",
    "            c.undraw()\n",
    "            win.update()\n",
    "            c = Circle(Point(new_xcen, ycen), radius)\n",
    "            c.setFill('skyblue')\n",
    "            c.draw(win)\n",
    "            time.sleep(0.2)\n",
    "            xttt += part\n",
    "            \n",
    "    if(yt!=0):\n",
    "        part = yt/10\n",
    "        yttt = 0\n",
    "        \n",
    "        while yttt!=yt:\n",
    "            new_ycen = y+yttt;\n",
    "            c.undraw()\n",
    "            win.update()\n",
    "            c = Circle(Point(xcen+xt, new_ycen), radius)\n",
    "            c.setFill('skyblue')\n",
    "            c.draw(win)\n",
    "            time.sleep(0.2)\n",
    "            yttt += part\n",
    "            \n",
    "    pt2 = Point(xcen+xt,ycen+yt)\n",
    "    pt2.draw(win)\n",
    "    t2 = Text(Point(xcen+xt, ycen+yt+10), \"(%.2f, %.2f)\"%(xcen+xt, ycen+yt))\n",
    "    t2.setSize(10)\n",
    "    t2.draw(win)\n",
    "\n",
    "    win.getMouse()\n",
    "    win.close()"
   ]
  },
  {
   "cell_type": "code",
   "execution_count": 39,
   "metadata": {},
   "outputs": [],
   "source": [
    "translateObject()"
   ]
  },
  {
   "cell_type": "code",
   "execution_count": null,
   "metadata": {},
   "outputs": [],
   "source": []
  }
 ],
 "metadata": {
  "kernelspec": {
   "display_name": "Python 3",
   "language": "python",
   "name": "python3"
  },
  "language_info": {
   "codemirror_mode": {
    "name": "ipython",
    "version": 3
   },
   "file_extension": ".py",
   "mimetype": "text/x-python",
   "name": "python",
   "nbconvert_exporter": "python",
   "pygments_lexer": "ipython3",
   "version": "3.7.6"
  }
 },
 "nbformat": 4,
 "nbformat_minor": 4
}
