{
 "cells": [
  {
   "cell_type": "markdown",
   "metadata": {},
   "source": [
    "### Aim\n",
    "\n",
    "Draw a scenery using in-built functions of graphics module"
   ]
  },
  {
   "cell_type": "code",
   "execution_count": 1,
   "metadata": {},
   "outputs": [],
   "source": [
    "from graphics import *"
   ]
  },
  {
   "cell_type": "code",
   "execution_count": 61,
   "metadata": {},
   "outputs": [],
   "source": [
    "def scenery():\n",
    "    win = GraphWin(\"Scenery\", 800, 500) \n",
    "    \n",
    "    # background\n",
    "    poly = Polygon(Point(10,10), Point(600,10), Point(600,450), Point(10, 450))\n",
    "    poly.setFill(\"skyblue\")\n",
    "    poly.draw(win)\n",
    "\n",
    "    # sun\n",
    "    sun = Circle(Point(500,80), 25)  # set center and radius\n",
    "    sun.setFill('yellow')\n",
    "    sun.draw(win)\n",
    "    \n",
    "    # mountain - 1\n",
    "    line = Line(Point(10, 250), Point(180, 50))\n",
    "    line.draw(win)\n",
    "    line = Line(Point(180, 50), Point(380, 270))\n",
    "    line.draw(win)\n",
    "    line = Line(Point(360, 250), Point(600, 250))\n",
    "    line.draw(win)\n",
    "    line = Line(Point(450, 250), Point(600, 150))\n",
    "    line.draw(win)\n",
    "    poly = Polygon(Point(10,250), Point(180,50), Point(380,270), Point(10, 280))\n",
    "    poly.setFill(\"brown\")\n",
    "    poly.draw(win)\n",
    "    \n",
    "    # mountain - 2\n",
    "    line = Line(Point(315, 200), Point(400, 100))\n",
    "    line.draw(win)\n",
    "    line = Line(Point(400, 100), Point(520, 200))\n",
    "    line.draw(win)\n",
    "    line = Line(Point(10, 280), Point(380, 270))\n",
    "    line.draw(win)\n",
    "    poly = Polygon(Point(315,200), Point(400,100), Point(542,202), Point(450, 250), Point(360,250))\n",
    "    poly.setFill(\"brown\")\n",
    "    poly.draw(win)\n",
    "    \n",
    "    # mountain - 3\n",
    "    poly = Polygon(Point(450,250), Point(600,250), Point(600,150))\n",
    "    poly.setFill(\"brown\")\n",
    "    poly.draw(win)\n",
    "    \n",
    "    # hut\n",
    "    line = Line(Point(310, 370), Point(350, 370))\n",
    "    line.draw(win)\n",
    "    line = Line(Point(350, 370), Point(400, 340))\n",
    "    line.draw(win)\n",
    "    line = Line(Point(350, 370), Point(350, 320))\n",
    "    line.draw(win)\n",
    "    line = Line(Point(310, 370), Point(310, 320))\n",
    "    line.draw(win)\n",
    "    \n",
    "    line = Line(Point(305, 325), Point(330, 300))\n",
    "    line.draw(win)\n",
    "    line = Line(Point(330, 300), Point(355, 325))\n",
    "    line.draw(win)\n",
    "    line = Line(Point(355, 325), Point(405, 310))\n",
    "    line.draw(win)\n",
    "    line = Line(Point(400, 340), Point(400, 310))\n",
    "    line.draw(win)\n",
    "    line = Line(Point(330, 300), Point(388, 290))\n",
    "    line.draw(win)\n",
    "    line = Line(Point(388, 290), Point(405, 310))\n",
    "    line.draw(win)\n",
    "    \n",
    "    poly = Polygon(Point(320,370), Point(320,330), Point(335,330), Point(335, 370))\n",
    "    poly.setFill(\"orange\")\n",
    "    poly.draw(win)\n",
    "\n",
    "    win.getMouse () # pause for click in window \n",
    "    win.close() "
   ]
  },
  {
   "cell_type": "code",
   "execution_count": 62,
   "metadata": {},
   "outputs": [],
   "source": [
    "scenery()"
   ]
  },
  {
   "cell_type": "code",
   "execution_count": null,
   "metadata": {},
   "outputs": [],
   "source": []
  }
 ],
 "metadata": {
  "kernelspec": {
   "display_name": "Python 3",
   "language": "python",
   "name": "python3"
  },
  "language_info": {
   "codemirror_mode": {
    "name": "ipython",
    "version": 3
   },
   "file_extension": ".py",
   "mimetype": "text/x-python",
   "name": "python",
   "nbconvert_exporter": "python",
   "pygments_lexer": "ipython3",
   "version": "3.7.6"
  }
 },
 "nbformat": 4,
 "nbformat_minor": 4
}
