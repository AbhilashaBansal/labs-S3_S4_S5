{
 "cells": [
  {
   "cell_type": "markdown",
   "metadata": {},
   "source": [
    "### Aim\n",
    "\n",
    "Implement the Liang-Barsky line clipping algorithm."
   ]
  },
  {
   "cell_type": "code",
   "execution_count": 1,
   "metadata": {},
   "outputs": [],
   "source": [
    "from graphics import *"
   ]
  },
  {
   "cell_type": "code",
   "execution_count": 8,
   "metadata": {},
   "outputs": [],
   "source": [
    "def liangBarskyClip(x1, y1, x2, y2, xmin, ymin, xmax, ymax):\n",
    "    ori_p1 = [x1,y1]\n",
    "    ori_p2 = [x2,y2]\n",
    "    \n",
    "    # drawing the clipping window\n",
    "    win = GraphWin(\"Cohen Sutherland Algo\", 800, 600) \n",
    "    line1 = Line(Point(xmin,ymin), Point(xmin, ymax))\n",
    "    line1.draw(win)\n",
    "    line2 = Line(Point(xmin,ymin), Point(xmax, ymin))\n",
    "    line2.draw(win)\n",
    "    line3 = Line(Point(xmax,ymax), Point(xmin, ymax))\n",
    "    line3.draw(win)\n",
    "    line4 = Line(Point(xmax,ymax), Point(xmax, ymin))\n",
    "    line4.draw(win)\n",
    "    line5 = Line(Point(ori_p1[0],ori_p1[1]), Point(ori_p2[0], ori_p2[1]))\n",
    "    line5.setOutline('red')\n",
    "    line5.draw(win)\n",
    "    \n",
    "    p, q, u = {}, {}, {}\n",
    "    p[0] = -(x2-x1)\n",
    "    p[1] = (x2-x1)\n",
    "    p[2] = -(y2-y1)\n",
    "    p[3] = (y2-y1)\n",
    "    q[0] = (x1-xmin)\n",
    "    q[1] = (xmax-x1)\n",
    "    q[2] = (y1-ymin)\n",
    "    q[3] = (ymax-y1)\n",
    "    \n",
    "    umin,umax = 0,1\n",
    "    count_parallel=0\n",
    "    \n",
    "    print(p,q)\n",
    "    \n",
    "    for i in range(4): \n",
    "        if(p[i]>0):\n",
    "            u[i] = q[i]/p[i]\n",
    "            umax = max(umax, u[i])\n",
    "        elif(p[i]<0):\n",
    "            u[i]=q[i]/p[i]\n",
    "            umin = min(umin, u[i])\n",
    "        elif(q[i] < 0):\n",
    "            # p[i]=0 and q[i]<0\n",
    "            # parallel & completely outside the clipping window\n",
    "            print(\"Line is completely outside the clipping window!\")\n",
    "            win.getMouse ()  \n",
    "            win.close()\n",
    "            return\n",
    "        else:\n",
    "            # p[i]=0 and q[i]>=0\n",
    "            # parallel but inside the clipping window\n",
    "            count_parallel+=1\n",
    "\n",
    "    if (umin<umax):\n",
    "        xx1 = x1+umin*p[1]\n",
    "        xx2 = x1+umax*p[1]\n",
    "        yy1 = y1+umin*p[3]\n",
    "        yy2 = y1+umax*p[3]\n",
    "        print(\"Coordinates of clipped line: (%.2f, %.2f) & (%.2f, %.2f)\" % (xx1, yy1, xx2, yy2))\n",
    "        \n",
    "        # draw inside portion of line\n",
    "        line = Line(Point(xx1,yy1), Point(xx2, yy2))\n",
    "        line.setOutline(\"blue\")\n",
    "        line.draw(win)\n",
    "        d1 = Text(Point(xx1, yy1), \"(%.2f, %.2f)\" % (xx1, yy1))\n",
    "        d1.setSize(15)\n",
    "        d1.draw(win)\n",
    "        d2 = Text(Point(xx2, yy2), \"(%.2f, %.2f)\" % (xx2, yy2))\n",
    "        d2.setSize(15)\n",
    "        d2.draw(win)\n",
    "        \n",
    "    else:\n",
    "        print(\"Line is completely outside the clipping window!\")\n",
    "        \n",
    "    win.getMouse ()  \n",
    "    win.close()"
   ]
  },
  {
   "cell_type": "code",
   "execution_count": 9,
   "metadata": {},
   "outputs": [
    {
     "name": "stdout",
     "output_type": "stream",
     "text": [
      "{0: -150, 1: 150, 2: -250, 3: 250} {0: -100, 1: 500, 2: -100, 3: 400}\n",
      "Coordinates of clipped line: (100.00, 100.00) & (600.00, 933.33)\n"
     ]
    }
   ],
   "source": [
    "liangBarskyClip(100,100,250,350,200,200,600,500)"
   ]
  },
  {
   "cell_type": "code",
   "execution_count": 21,
   "metadata": {},
   "outputs": [
    {
     "name": "stdout",
     "output_type": "stream",
     "text": [
      "{0: -400, 1: 400, 2: -300, 3: 300} {0: -100, 1: 300, 2: -100, 3: 300}\n",
      "Coordinates of clipped line: (100.00, 100.00) & (500.00, 400.00)\n"
     ]
    }
   ],
   "source": [
    "# both ends clipping required\n",
    "liangBarskyClip(100,100,500,400,200,200,400,400)"
   ]
  },
  {
   "cell_type": "code",
   "execution_count": 15,
   "metadata": {},
   "outputs": [
    {
     "name": "stdout",
     "output_type": "stream",
     "text": [
      "{0: -200, 1: 200, 2: -100, 3: 100} {0: 100, 1: 100, 2: 100, 3: 100}\n",
      "Coordinates of clipped line: (100.00, 200.00) & (500.00, 400.00)\n"
     ]
    }
   ],
   "source": [
    "# top end inside, bottom end clipping required\n",
    "liangBarskyClip(300,300,500,400,200,200,400,400)"
   ]
  },
  {
   "cell_type": "code",
   "execution_count": 19,
   "metadata": {},
   "outputs": [
    {
     "name": "stdout",
     "output_type": "stream",
     "text": [
      "{0: -150, 1: 150, 2: -250, 3: 250} {0: -100, 1: 300, 2: -100, 3: 300}\n",
      "Coordinates of clipped line: (100.00, 100.00) & (400.00, 600.00)\n"
     ]
    }
   ],
   "source": [
    "# top end clipping required, bottom end inside\n",
    "liangBarskyClip(100,100,250,350,200,200,400,400)"
   ]
  },
  {
   "cell_type": "code",
   "execution_count": 20,
   "metadata": {},
   "outputs": [
    {
     "name": "stdout",
     "output_type": "stream",
     "text": [
      "{0: -150, 1: 150, 2: -100, 3: 100} {0: 100, 1: 200, 2: 100, 3: 200}\n",
      "Coordinates of clipped line: (50.00, 100.00) & (500.00, 400.00)\n"
     ]
    }
   ],
   "source": [
    "# no clipping required\n",
    "liangBarskyClip(200,200,350,300,100,100,400,400)"
   ]
  },
  {
   "cell_type": "code",
   "execution_count": null,
   "metadata": {},
   "outputs": [],
   "source": []
  }
 ],
 "metadata": {
  "kernelspec": {
   "display_name": "Python 3",
   "language": "python",
   "name": "python3"
  },
  "language_info": {
   "codemirror_mode": {
    "name": "ipython",
    "version": 3
   },
   "file_extension": ".py",
   "mimetype": "text/x-python",
   "name": "python",
   "nbconvert_exporter": "python",
   "pygments_lexer": "ipython3",
   "version": "3.7.6"
  }
 },
 "nbformat": 4,
 "nbformat_minor": 4
}
