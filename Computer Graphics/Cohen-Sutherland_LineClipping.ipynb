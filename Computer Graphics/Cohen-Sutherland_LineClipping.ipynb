{
 "cells": [
  {
   "cell_type": "markdown",
   "metadata": {},
   "source": [
    "### Aim\n",
    "\n",
    "Implement the Cohen-Sutherland line clipping algorithm."
   ]
  },
  {
   "cell_type": "code",
   "execution_count": 1,
   "metadata": {},
   "outputs": [],
   "source": [
    "from graphics import *"
   ]
  },
  {
   "cell_type": "code",
   "execution_count": 2,
   "metadata": {
    "scrolled": true
   },
   "outputs": [],
   "source": [
    "# Cohen Sutherland Algorithm\n",
    "\n",
    "# Region codes\n",
    "LEFT = 1 # 0001\n",
    "RIGHT = 2 # 0010\n",
    "BOTTOM = 4 # 0100\n",
    "TOP = 8 # 1000\n",
    "\n",
    "\n",
    "# Function to compute Region Code for a point(x, y)\n",
    "def computeRegionCode(x, y, xmin, ymin, xmax, ymax):\n",
    "    code = 0\n",
    "    if x < xmin: \n",
    "        # to the left of rectangle\n",
    "        code |= LEFT\n",
    "    elif x > xmax: \n",
    "        # to the right of rectangle\n",
    "        code |= RIGHT\n",
    "    if y < ymin:\n",
    "        # below the rectangle\n",
    "        code |= BOTTOM\n",
    "    elif y > ymax: \n",
    "        # above the rectangle\n",
    "        code |= TOP\n",
    "    return code\n",
    "\n",
    "\n",
    "# Clipping a line from P1=(x1, y1) to P2=(x2, y2)\n",
    "def cohenSutherlandClip(x1, y1, x2, y2, xmin, ymin, xmax, ymax):\n",
    "    ori_p1 = [x1,y1]\n",
    "    ori_p2 = [x2,y2]\n",
    "    code1 = computeRegionCode(x1, y1, xmin, ymin, xmax, ymax)\n",
    "    code2 = computeRegionCode(x2, y2, xmin, ymin, xmax, ymax)\n",
    "    accept = False\n",
    "\n",
    "    while True:\n",
    "        if code1 == 0 and code2 == 0:\n",
    "        # line is completely inside clipping window\n",
    "            accept = True\n",
    "            break\n",
    "\n",
    "        # line is completely outside clipping window\n",
    "        elif (code1 & code2) != 0:\n",
    "            break\n",
    "\n",
    "        # line is partially visible\n",
    "        else:\n",
    "            x = 1.0\n",
    "            y = 1.0\n",
    "            if code1 != 0:\n",
    "                code_out = code1\n",
    "            else:\n",
    "                code_out = code2\n",
    "\n",
    "            # Find intersection point\n",
    "            if code_out & TOP:\n",
    "                # one point is above the clip rectangle\n",
    "                x = x1 + ((x2 - x1)*(ymax - y1)) / (y2 - y1)\n",
    "                y = ymax\n",
    "\n",
    "            elif code_out & BOTTOM:\n",
    "                # one point is below the clip rectangle\n",
    "                x = x1 + ((x2 - x1) *(ymin - y1)) / (y2 - y1)\n",
    "                y = ymin\n",
    "\n",
    "            elif code_out & RIGHT:\n",
    "                # one point is to the right of the clip rectangle\n",
    "                y = y1 + ((y2 - y1)*(xmax - x1)) / (x2 - x1)\n",
    "                x = xmax\n",
    "\n",
    "            elif code_out & LEFT:\n",
    "                # one point is to the left of the clip rectangle\n",
    "                y = y1 + ((y2 - y1)*(xmin - x1)) / (x2 - x1)\n",
    "                x = xmin\n",
    "\n",
    "            # Now replace point outside clipping rectangle by intersection point\n",
    "            # This way, in next iteration we'll be able to find second clipping point \n",
    "            if code_out == code1:\n",
    "                x1 = x\n",
    "                y1 = y\n",
    "                code1 = computeRegionCode(x1, y1, xmin, ymin, xmax, ymax)\n",
    "\n",
    "            else:\n",
    "                x2 = x\n",
    "                y2 = y\n",
    "                code2 = computeRegionCode(x2, y2, xmin, ymin, xmax, ymax)\n",
    "    \n",
    "    # drawing the clipping window\n",
    "    win = GraphWin(\"Cohen Sutherland Algo\", 800, 600) \n",
    "    line1 = Line(Point(xmin,ymin), Point(xmin, ymax))\n",
    "    line1.draw(win)\n",
    "    line2 = Line(Point(xmin,ymin), Point(xmax, ymin))\n",
    "    line2.draw(win)\n",
    "    line3 = Line(Point(xmax,ymax), Point(xmin, ymax))\n",
    "    line3.draw(win)\n",
    "    line4 = Line(Point(xmax,ymax), Point(xmax, ymin))\n",
    "    line4.draw(win)\n",
    "    line5 = Line(Point(ori_p1[0],ori_p1[1]), Point(ori_p2[0], ori_p2[1]))\n",
    "    # line5.setOutline(\"#ADD8E6\")\n",
    "    line5.setOutline('red')\n",
    "    line5.draw(win)\n",
    "    \n",
    "    if accept:\n",
    "        print (\"Line accepted from (%.2f, %.2f) to (%.2f, %.2f)\" % (x1, y1, x2, y2))\n",
    "        # display the rectangle along with the accepted portion of line\n",
    "        line = Line(Point(x1,y1), Point(x2, y2))\n",
    "        line.setOutline(\"blue\")\n",
    "        line.draw(win)\n",
    "        d1 = Text(Point(x1, y1), \"(%.2f, %.2f)\" % (x1, y1))\n",
    "        d1.setSize(15)\n",
    "        d1.draw(win)\n",
    "        d2 = Text(Point(x2, y2), \"(%.2f, %.2f)\" % (x2, y2))\n",
    "        d2.setSize(15)\n",
    "        d2.draw(win)\n",
    "    \n",
    "    else:\n",
    "        print(\"Line rejected completely. Line is not visible at all.\")\n",
    "        \n",
    "    win.getMouse ()  \n",
    "    win.close() "
   ]
  },
  {
   "cell_type": "code",
   "execution_count": 3,
   "metadata": {},
   "outputs": [
    {
     "name": "stdout",
     "output_type": "stream",
     "text": [
      "Line accepted from (5.00, 5.00) to (70.00, 70.00)\n"
     ]
    }
   ],
   "source": [
    "cohenSutherlandClip(5, 5, 70, 70, 4, 4, 100, 100)"
   ]
  },
  {
   "cell_type": "code",
   "execution_count": 37,
   "metadata": {},
   "outputs": [
    {
     "name": "stdout",
     "output_type": "stream",
     "text": [
      "Line rejected completely. Line is not visible at all.\n"
     ]
    }
   ],
   "source": [
    "cohenSutherlandClip(5, 5, 70, 70, 100, 100, 400, 400)"
   ]
  },
  {
   "cell_type": "code",
   "execution_count": 5,
   "metadata": {},
   "outputs": [
    {
     "name": "stdout",
     "output_type": "stream",
     "text": [
      "Line accepted from (109.09, 100.00) to (400.00, 346.15)\n"
     ]
    }
   ],
   "source": [
    "cohenSutherlandClip(50, 50, 700, 600, 100, 100, 400, 400)"
   ]
  },
  {
   "cell_type": "code",
   "execution_count": 4,
   "metadata": {},
   "outputs": [
    {
     "name": "stdout",
     "output_type": "stream",
     "text": [
      "Line accepted from (150.00, 100.00) to (200.00, 300.00)\n"
     ]
    }
   ],
   "source": [
    "cohenSutherlandClip(150, 100, 200, 300, 100, 100, 400, 400)"
   ]
  },
  {
   "cell_type": "code",
   "execution_count": null,
   "metadata": {},
   "outputs": [],
   "source": []
  }
 ],
 "metadata": {
  "kernelspec": {
   "display_name": "Python 3",
   "language": "python",
   "name": "python3"
  },
  "language_info": {
   "codemirror_mode": {
    "name": "ipython",
    "version": 3
   },
   "file_extension": ".py",
   "mimetype": "text/x-python",
   "name": "python",
   "nbconvert_exporter": "python",
   "pygments_lexer": "ipython3",
   "version": "3.7.6"
  }
 },
 "nbformat": 4,
 "nbformat_minor": 4
}
