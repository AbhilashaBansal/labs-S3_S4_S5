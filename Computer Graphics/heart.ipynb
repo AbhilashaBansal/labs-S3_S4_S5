{
 "cells": [
  {
   "cell_type": "code",
   "execution_count": 1,
   "metadata": {},
   "outputs": [],
   "source": [
    "from graphics import *"
   ]
  },
  {
   "cell_type": "code",
   "execution_count": 54,
   "metadata": {},
   "outputs": [],
   "source": [
    "def heartDraw():\n",
    "    win = GraphWin(\"Heart\", 800, 500) \n",
    "    \n",
    "    c1 = Circle(Point(125, 100), 30)\n",
    "    c1.setOutline(\"red\")\n",
    "    c1.setFill(\"red\")\n",
    "    c1.draw(win)\n",
    "    \n",
    "    c2 = Circle(Point(175, 100), 30)\n",
    "    c2.setOutline(\"red\")\n",
    "    c2.setFill(\"red\")\n",
    "    c2.draw(win)\n",
    "    \n",
    "    poly = Polygon(Point(100,115), Point(200,115), Point(150,180))\n",
    "    poly.setOutline(\"red\")\n",
    "    poly.setFill(\"red\")\n",
    "    poly.draw(win)\n",
    "    \n",
    "    line = Line(Point(75,180), Point(230, 60))\n",
    "    line.setArrow(\"last\")\n",
    "    line.draw(win)\n",
    "    \n",
    "    win.getMouse ()  \n",
    "    win.close() "
   ]
  },
  {
   "cell_type": "code",
   "execution_count": 55,
   "metadata": {},
   "outputs": [],
   "source": [
    "heartDraw()"
   ]
  },
  {
   "cell_type": "code",
   "execution_count": null,
   "metadata": {},
   "outputs": [],
   "source": []
  }
 ],
 "metadata": {
  "kernelspec": {
   "display_name": "Python 3",
   "language": "python",
   "name": "python3"
  },
  "language_info": {
   "codemirror_mode": {
    "name": "ipython",
    "version": 3
   },
   "file_extension": ".py",
   "mimetype": "text/x-python",
   "name": "python",
   "nbconvert_exporter": "python",
   "pygments_lexer": "ipython3",
   "version": "3.7.6"
  }
 },
 "nbformat": 4,
 "nbformat_minor": 4
}
